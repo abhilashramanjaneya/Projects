{
 "cells": [
  {
   "cell_type": "markdown",
   "metadata": {},
   "source": [
    "# Sets\n"
   ]
  },
  {
   "cell_type": "code",
   "execution_count": 1,
   "metadata": {},
   "outputs": [
    {
     "name": "stdout",
     "output_type": "stream",
     "text": [
      "{1, 2, 3, 4, 5}\n"
     ]
    }
   ],
   "source": [
    "my_set = {1,2,3,4,5}\n",
    "print(my_set)"
   ]
  },
  {
   "cell_type": "code",
   "execution_count": 2,
   "metadata": {},
   "outputs": [
    {
     "name": "stdout",
     "output_type": "stream",
     "text": [
      "{1, 2, 3, 4, 5, (4, 5)}\n"
     ]
    }
   ],
   "source": [
    "my_set.add((4,5))\n",
    "print(my_set)"
   ]
  },
  {
   "cell_type": "code",
   "execution_count": 3,
   "metadata": {},
   "outputs": [
    {
     "name": "stdout",
     "output_type": "stream",
     "text": [
      "{1, 2, 3, 4, 5, (1.0, 'Hi'), (4, 5)}\n"
     ]
    }
   ],
   "source": [
    "my_set.add((1.0,\"Hi\"))\n",
    "print(my_set)"
   ]
  },
  {
   "cell_type": "code",
   "execution_count": 4,
   "metadata": {},
   "outputs": [
    {
     "name": "stdout",
     "output_type": "stream",
     "text": [
      "{1, 2, 3, 4, 5, (4, 5)}\n"
     ]
    }
   ],
   "source": [
    "my_set.remove((1.0,\"Hi\"))\n",
    "print(my_set)"
   ]
  },
  {
   "cell_type": "code",
   "execution_count": 5,
   "metadata": {},
   "outputs": [
    {
     "name": "stdout",
     "output_type": "stream",
     "text": [
      "{1, 2, 3, 4, 5, (4, 5)}\n"
     ]
    }
   ],
   "source": [
    "my_set.add((4,5))\n",
    "print(my_set)"
   ]
  },
  {
   "cell_type": "code",
   "execution_count": 6,
   "metadata": {},
   "outputs": [
    {
     "name": "stdout",
     "output_type": "stream",
     "text": [
      "{1, 2, 3, 4, 5, (4, 5), 'Hi'}\n"
     ]
    }
   ],
   "source": [
    "my_set.update((1.0,\"Hi\"))\n",
    "print(my_set)"
   ]
  },
  {
   "cell_type": "code",
   "execution_count": 7,
   "metadata": {},
   "outputs": [
    {
     "name": "stdout",
     "output_type": "stream",
     "text": [
      "{1, 2, 3, 4, 5, 7.0, 9.6, 10, (4, 5), 'Hi'}\n"
     ]
    }
   ],
   "source": [
    "my_set.update([7.0,9.6,10])\n",
    "print(my_set)"
   ]
  },
  {
   "cell_type": "code",
   "execution_count": 8,
   "metadata": {},
   "outputs": [
    {
     "name": "stdout",
     "output_type": "stream",
     "text": [
      "{1, 2, 3, 4, 5, 'Abhi', 7.0, 40, 9.6, 10, (4, 5), 20, 'Hi', 30}\n"
     ]
    }
   ],
   "source": [
    "my_set.update([7.0,9.6,10], {20,30,40,\"Abhi\"})\n",
    "print(my_set)"
   ]
  },
  {
   "cell_type": "code",
   "execution_count": 9,
   "metadata": {},
   "outputs": [
    {
     "name": "stdout",
     "output_type": "stream",
     "text": [
      "{'b', 'h', 'A'}\n"
     ]
    }
   ],
   "source": [
    "me = set(\"Abhi\")\n",
    "me.pop()\n",
    "print(me)"
   ]
  },
  {
   "cell_type": "markdown",
   "metadata": {},
   "source": [
    "# Displaying Prime numbers "
   ]
  },
  {
   "cell_type": "code",
   "execution_count": 1,
   "metadata": {},
   "outputs": [
    {
     "name": "stdout",
     "output_type": "stream",
     "text": [
      "Enter a number :\n",
      "15\n",
      "Prime numbers are : [1, 2, 3, 5, 7, 11, 13]\n"
     ]
    }
   ],
   "source": [
    "def prime_num():\n",
    "    print(\"Enter a number :\")\n",
    "    l = []\n",
    "    num = int(input())\n",
    "\n",
    "    for i in range(1,num):\n",
    "        prime = True\n",
    "        if i >= 2:\n",
    "            for j in range(2,i):\n",
    "                if (i % j) == 0:\n",
    "                    prime = False\n",
    "        if prime:\n",
    "            l.append(i)\n",
    "    print(f\"Prime numbers are : {l}\")\n",
    "    \n",
    "    return l\n",
    "\n",
    "x = prime_num()"
   ]
  },
  {
   "cell_type": "markdown",
   "metadata": {},
   "source": [
    "# Pig Latin Converter"
   ]
  },
  {
   "cell_type": "code",
   "execution_count": 24,
   "metadata": {},
   "outputs": [
    {
     "name": "stdout",
     "output_type": "stream",
     "text": [
      "Enter some text to translate to pig latin: My name is Abhi\n",
      "You entered:  My name is Abhi\n",
      "amenay\n",
      "bhiAay\n"
     ]
    }
   ],
   "source": [
    "def pig_latin():\n",
    "    #Take the users input\n",
    "    words = input(\"Enter some text to translate to pig latin: \")\n",
    "    print(\"You entered: \", words)\n",
    "\n",
    "    #Now I need to break apart the words into a list\n",
    "    words = words.split(' ')\n",
    "\n",
    "    #Now words is a list, so I can manipulate each one usinga loop\n",
    "\n",
    "    for i in words:\n",
    "        if len(i) >= 3: #I only want to translate words greater than 3 characters\n",
    "            i = i + \"%say\" % (i[0]) \n",
    "            i = i[1:]\n",
    "            print(i)\n",
    "        else:\n",
    "            pass\n",
    "\n",
    "pig_latin()"
   ]
  },
  {
   "cell_type": "markdown",
   "metadata": {},
   "source": [
    "# Temperature converter"
   ]
  },
  {
   "cell_type": "code",
   "execution_count": 3,
   "metadata": {},
   "outputs": [
    {
     "name": "stdout",
     "output_type": "stream",
     "text": [
      "Enter a temperature in Celsius: 33\n",
      "Temperature of 33 Celsius is equal to 91.4 Fahrenheit\n"
     ]
    }
   ],
   "source": [
    "def temp_con():\n",
    "    Celsius = int(input(\"Enter a temperature in Celsius: \"))\n",
    "    Fahrenheit = 9.0/5.0 * Celsius + 32\n",
    "    print(f\"Temperature of {c} Celsius is equal to {f} Fahrenheit\")\n",
    "temp_con()"
   ]
  },
  {
   "cell_type": "markdown",
   "metadata": {},
   "source": [
    "# Magic 8 Ball"
   ]
  },
  {
   "cell_type": "code",
   "execution_count": 12,
   "metadata": {},
   "outputs": [
    {
     "name": "stdout",
     "output_type": "stream",
     "text": [
      "Ask Magic ball a question: What is death\n",
      "Wish you thought of it\n"
     ]
    }
   ],
   "source": [
    "import sys\n",
    "import random\n",
    "\n",
    "def magic_ball():\n",
    "    list_of_options = [\"Such is life\",\"It is not end of the Tunnel\", \"I dont think you will be happy after knowing the answer\",\n",
    "                      \"All's well that end's well\", \"Wish you thought of it\", \"One day you might tell, All is well !\",\n",
    "                      \"Come on \", \"Hahhhaaaaaaaaa\" ]\n",
    "    question = input(\"Ask Magic ball a question: \")\n",
    "    answer = random.randint(1,8)\n",
    "    \n",
    "    if question == \"\":\n",
    "        sys.exit()\n",
    "        \n",
    "    elif question:\n",
    "        print(list_of_options[answer])\n",
    "        \n",
    "#     elif answer == 2:\n",
    "#         print(\"It is not end of the Tunnel\")\n",
    "        \n",
    "#     elif answer == 3:\n",
    "#         print(\"I dont think you will be happy after knowing the answer\")\n",
    "        \n",
    "#     elif answer == 4:\n",
    "#         print(\"All's well that end's well\")\n",
    "        \n",
    "#     elif answer == 5:\n",
    "#         print(\"Wish you thought of it\")\n",
    "    \n",
    "#     elif answer == 6:\n",
    "#         print(\"One day you might tell, All is well !\")\n",
    "        \n",
    "#     elif answer == 7:\n",
    "#         print(\"Come on \")\n",
    "    \n",
    "#     elif answer == 8:\n",
    "#         print(\"Hahhhaaaaaaaaa\")\n",
    "        \n",
    "        \n",
    "    \n",
    "magic_ball()"
   ]
  },
  {
   "cell_type": "code",
   "execution_count": null,
   "metadata": {},
   "outputs": [],
   "source": []
  },
  {
   "cell_type": "code",
   "execution_count": null,
   "metadata": {},
   "outputs": [],
   "source": []
  }
 ],
 "metadata": {
  "kernelspec": {
   "display_name": "Python 3",
   "language": "python",
   "name": "python3"
  },
  "language_info": {
   "codemirror_mode": {
    "name": "ipython",
    "version": 3
   },
   "file_extension": ".py",
   "mimetype": "text/x-python",
   "name": "python",
   "nbconvert_exporter": "python",
   "pygments_lexer": "ipython3",
   "version": "3.8.5"
  }
 },
 "nbformat": 4,
 "nbformat_minor": 2
}
