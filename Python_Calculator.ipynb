{
 "cells": [
  {
   "cell_type": "code",
   "execution_count": 1,
   "metadata": {},
   "outputs": [],
   "source": [
    "# import sys\n",
    "# from PyQt5.QtWidgets import QApplication\n",
    "# from PyQt5.QtWidgets import QLabel\n",
    "# from PyQt5.QtWidgets import QWidget\n",
    "\n",
    "# app = QApplication(sys.argv)\n",
    "\n",
    "# # 3. Create an instance of your application's GUI\n",
    "# window = QWidget()\n",
    "# window.setWindowTitle('PyQt5 App')\n",
    "# window.setGeometry(100, 100, 280, 80)\n",
    "# window.move(60, 15)\n",
    "# helloMsg = QLabel('<h1>Hello World!</h1>', parent=window)\n",
    "# helloMsg.move(60, 15)\n",
    "\n",
    "# # 4. Show your application's GUI\n",
    "# window.show()\n",
    "\n",
    "# # 5. Run your application's event loop (or main loop)\n",
    "# sys.exit(app.exec_())\n",
    "# # 4. Show your application's GUI\n",
    "# window.show()\n",
    "\n",
    "# # 5. Run your application's event loop (or main loop)\n",
    "# sys.exit(app.exec_())"
   ]
  },
  {
   "cell_type": "code",
   "execution_count": 2,
   "metadata": {},
   "outputs": [],
   "source": [
    "# import sys\n",
    "\n",
    "# from PyQt5.QtWidgets import QApplication\n",
    "# from PyQt5.QtWidgets import QHBoxLayout\n",
    "# from PyQt5.QtWidgets import QPushButton\n",
    "# from PyQt5.QtWidgets import QWidget\n",
    "\n",
    "# app = QApplication(sys.argv)\n",
    "# window = QWidget()\n",
    "# window.setWindowTitle('QHBoxLayout')\n",
    "# layout = QHBoxLayout()\n",
    "# layout.addWidget(QPushButton('Left'))\n",
    "# layout.addWidget(QPushButton('Center'))\n",
    "# layout.addWidget(QPushButton('Right'))\n",
    "# window.setLayout(layout)\n",
    "# window.show()\n",
    "# sys.exit(app.exec_())"
   ]
  },
  {
   "cell_type": "code",
   "execution_count": null,
   "metadata": {},
   "outputs": [],
   "source": []
  }
 ],
 "metadata": {
  "kernelspec": {
   "display_name": "Python 3",
   "language": "python",
   "name": "python3"
  },
  "language_info": {
   "codemirror_mode": {
    "name": "ipython",
    "version": 3
   },
   "file_extension": ".py",
   "mimetype": "text/x-python",
   "name": "python",
   "nbconvert_exporter": "python",
   "pygments_lexer": "ipython3",
   "version": "3.8.5"
  }
 },
 "nbformat": 4,
 "nbformat_minor": 4
}
